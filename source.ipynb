{
  "cells": [
    {
      "cell_type": "markdown",
      "metadata": {
        "id": "view-in-github",
        "colab_type": "text"
      },
      "source": [
        "<a href=\"https://colab.research.google.com/github/rash-rc/credit-risk-modeling/blob/google-colab-notebook/source.ipynb\" target=\"_parent\"><img src=\"https://colab.research.google.com/assets/colab-badge.svg\" alt=\"Open In Colab\"/></a>"
      ]
    },
    {
      "cell_type": "markdown",
      "metadata": {
        "id": "3djtEfyh0zLZ"
      },
      "source": [
        "### Data Preparation"
      ]
    },
    {
      "cell_type": "code",
      "source": [
        "from google.colab import drive\n",
        "drive.mount('/content/drive')"
      ],
      "metadata": {
        "id": "VIlYO-KWPSO9"
      },
      "execution_count": null,
      "outputs": []
    },
    {
      "cell_type": "code",
      "execution_count": null,
      "metadata": {
        "id": "QocbBovW0zLb"
      },
      "outputs": [],
      "source": [
        "#import libraries\n",
        "import numpy as np\n",
        "import pandas as pd\n"
      ]
    },
    {
      "cell_type": "code",
      "execution_count": null,
      "metadata": {
        "id": "5_P2dZGW0zLb"
      },
      "outputs": [],
      "source": [
        "#import data\n",
        "loan_data_backup = pd.read_csv('/content/drive/MyDrive/Colab Notebooks/dataset/loan.csv')"
      ]
    },
    {
      "cell_type": "code",
      "execution_count": null,
      "metadata": {
        "id": "eogd4zVv0zLc"
      },
      "outputs": [],
      "source": [
        "loan_data = loan_data_backup.copy()"
      ]
    },
    {
      "cell_type": "code",
      "execution_count": null,
      "metadata": {
        "id": "rNWxBE470zLc"
      },
      "outputs": [],
      "source": [
        "pd.options.display.max_columns = None"
      ]
    },
    {
      "cell_type": "code",
      "execution_count": null,
      "metadata": {
        "id": "lAq1RMFL0zLc"
      },
      "outputs": [],
      "source": [
        "#loan_data"
      ]
    },
    {
      "cell_type": "code",
      "execution_count": null,
      "metadata": {
        "id": "9XEN1tQh0zLd"
      },
      "outputs": [],
      "source": [
        "loan_data.head() #First 5 rows"
      ]
    },
    {
      "cell_type": "code",
      "execution_count": null,
      "metadata": {
        "id": "eK_W2vHi0zLd"
      },
      "outputs": [],
      "source": [
        "loan_data.tail() #Last 5 rows"
      ]
    },
    {
      "cell_type": "code",
      "execution_count": null,
      "metadata": {
        "id": "2D_wDvJz0zLd"
      },
      "outputs": [],
      "source": [
        "loan_data.columns.values"
      ]
    },
    {
      "cell_type": "code",
      "execution_count": null,
      "metadata": {
        "id": "vuuS4kKI0zLd"
      },
      "outputs": [],
      "source": [
        "loan_data.info()"
      ]
    },
    {
      "cell_type": "code",
      "execution_count": null,
      "metadata": {
        "id": "0ln-31wQ0zLd"
      },
      "outputs": [],
      "source": [
        "loan_data.dtypes.value_counts()"
      ]
    },
    {
      "cell_type": "code",
      "execution_count": null,
      "metadata": {
        "id": "aduBPH_N0zLd"
      },
      "outputs": [],
      "source": [
        "loan_data.dtypes"
      ]
    },
    {
      "cell_type": "code",
      "execution_count": null,
      "metadata": {
        "id": "6KaYMKO90zLd"
      },
      "outputs": [],
      "source": [
        "pd.set_option('display.max_rows', None)  # Show all rows (columns in this case)\n",
        "print(loan_data.dtypes)"
      ]
    },
    {
      "cell_type": "code",
      "execution_count": null,
      "metadata": {
        "id": "5ItWedXx0zLe"
      },
      "outputs": [],
      "source": [
        "columns_info = loan_data.dtypes.reset_index()\n",
        "columns_info.columns = ['Column Name', 'Data Type']\n",
        "print(columns_info)"
      ]
    },
    {
      "cell_type": "code",
      "execution_count": null,
      "metadata": {
        "id": "kqRWBV6x0zLe"
      },
      "outputs": [],
      "source": [
        "for col in loan_data.columns:\n",
        "    print(f\"Column: {col}, Data Type: {loan_data[col].dtype}\")"
      ]
    },
    {
      "cell_type": "markdown",
      "metadata": {
        "id": "WJQFJvhf0zLe"
      },
      "source": [
        "### General Preprocessing"
      ]
    },
    {
      "cell_type": "markdown",
      "metadata": {
        "id": "xaJ4_8KQ0zLe"
      },
      "source": [
        "#### Preprocessing few continuos variables"
      ]
    },
    {
      "cell_type": "code",
      "execution_count": null,
      "metadata": {
        "id": "1R0ugeKK0zLe"
      },
      "outputs": [],
      "source": [
        "loan_data['emp_length'].unique()"
      ]
    },
    {
      "cell_type": "code",
      "execution_count": null,
      "metadata": {
        "id": "yEiJfUcQ0zLe"
      },
      "outputs": [],
      "source": [
        "loan_data['emp_length_int'] = loan_data['emp_length'].str.replace(r'\\+ years', '', regex = True)\n",
        "loan_data['emp_length_int'] = loan_data['emp_length_int'].str.replace('< 1 year', str(0))\n",
        "loan_data['emp_length_int'] = loan_data['emp_length_int'].fillna(str(0))\n",
        "loan_data['emp_length_int'] = loan_data['emp_length_int'].str.replace('years', '')\n",
        "loan_data['emp_length_int'] = loan_data['emp_length_int'].str.replace('year', '')"
      ]
    },
    {
      "cell_type": "code",
      "execution_count": null,
      "metadata": {
        "id": "ssuPZUfa0zLe"
      },
      "outputs": [],
      "source": [
        "loan_data['emp_length_int'].unique()"
      ]
    },
    {
      "cell_type": "code",
      "execution_count": null,
      "metadata": {
        "id": "uowI-rD40zLe"
      },
      "outputs": [],
      "source": [
        "type(loan_data['emp_length_int'][0])"
      ]
    },
    {
      "cell_type": "code",
      "execution_count": null,
      "metadata": {
        "id": "gM-ebf160zLe"
      },
      "outputs": [],
      "source": [
        "loan_data['emp_length_int'] = pd.to_numeric(loan_data['emp_length_int'])"
      ]
    },
    {
      "cell_type": "code",
      "execution_count": null,
      "metadata": {
        "id": "Fk2gR2sr0zLe"
      },
      "outputs": [],
      "source": [
        "type(loan_data['emp_length_int'][0])"
      ]
    },
    {
      "cell_type": "code",
      "execution_count": null,
      "metadata": {
        "id": "MN4hY5CJ0zLf"
      },
      "outputs": [],
      "source": [
        "loan_data['term'].unique()"
      ]
    },
    {
      "cell_type": "code",
      "execution_count": null,
      "metadata": {
        "id": "Gn1KVaP20zLf"
      },
      "outputs": [],
      "source": [
        "loan_data['term_int'] = loan_data['term'].str.replace('months', '')"
      ]
    },
    {
      "cell_type": "code",
      "execution_count": null,
      "metadata": {
        "id": "JYDF28oU0zLf"
      },
      "outputs": [],
      "source": [
        "loan_data['term_int'].unique()"
      ]
    },
    {
      "cell_type": "code",
      "execution_count": null,
      "metadata": {
        "id": "rT1-_OLn0zLf"
      },
      "outputs": [],
      "source": [
        "loan_data['term_int'] = pd.to_numeric(loan_data['term_int'])"
      ]
    },
    {
      "cell_type": "code",
      "execution_count": null,
      "metadata": {
        "id": "F7rlK2yI0zLf"
      },
      "outputs": [],
      "source": [
        "type(loan_data['term_int'][0])"
      ]
    },
    {
      "cell_type": "code",
      "execution_count": null,
      "metadata": {
        "id": "4ZopybQc0zLf"
      },
      "outputs": [],
      "source": [
        "loan_data['earliest_cr_line'].unique()"
      ]
    },
    {
      "cell_type": "code",
      "execution_count": null,
      "metadata": {
        "id": "Vr0kRc490zLf"
      },
      "outputs": [],
      "source": [
        "#loan_data['earliest_cr_line']"
      ]
    },
    {
      "cell_type": "code",
      "execution_count": null,
      "metadata": {
        "id": "q80G04Tu0zLf"
      },
      "outputs": [],
      "source": [
        "loan_data['earliest_cr_line_date'] = pd.to_datetime(loan_data['earliest_cr_line'], format = '%b-%y')"
      ]
    },
    {
      "cell_type": "code",
      "execution_count": null,
      "metadata": {
        "id": "C8yO-sR_0zLf"
      },
      "outputs": [],
      "source": [
        "#loan_data['earliest_cr_line_date']"
      ]
    },
    {
      "cell_type": "code",
      "execution_count": null,
      "metadata": {
        "id": "6WatDuB50zLg"
      },
      "outputs": [],
      "source": [
        "type(loan_data['earliest_cr_line_date'][0])"
      ]
    },
    {
      "cell_type": "code",
      "execution_count": null,
      "metadata": {
        "id": "MxmN5-Jy0zLg"
      },
      "outputs": [],
      "source": [
        "maxdate = loan_data['earliest_cr_line_date'].max()\n",
        "maxdate"
      ]
    },
    {
      "cell_type": "code",
      "execution_count": null,
      "metadata": {
        "id": "UrGyxLCf0zLg"
      },
      "outputs": [],
      "source": [
        "mindate = loan_data['earliest_cr_line_date'].min()\n",
        "mindate"
      ]
    },
    {
      "cell_type": "code",
      "execution_count": null,
      "metadata": {
        "id": "K6hsR1kv0zLg"
      },
      "outputs": [],
      "source": [
        "#In order to use the credit line data in regression we need the time since the earliest credit line was issued. We need a reference date in order to do that\n",
        "\n",
        "#Ususally we would take the current date but since our data is older we are assuming it as December 2015\n",
        "\n",
        "pd.to_datetime('2017-12-01') - loan_data['earliest_cr_line_date']"
      ]
    },
    {
      "cell_type": "code",
      "execution_count": null,
      "metadata": {
        "id": "bVYtxRoV0zLg"
      },
      "outputs": [],
      "source": [
        "#Conventinally months are used ( 'M' is deprecated thus, we will first convert into days and then month)\n",
        "#delta = np.timedelta64(100, 'D')\n",
        "reference_date = pd.to_datetime('2017-12-01')\n",
        "loan_data['months_since_earliest_cr_line'] = round(pd.to_numeric((reference_date - pd.to_datetime(loan_data['earliest_cr_line_date']))/ np.timedelta64(1, 'D'))/30.417)"
      ]
    },
    {
      "cell_type": "code",
      "execution_count": null,
      "metadata": {
        "id": "vVN4ZLxM0zLh"
      },
      "outputs": [],
      "source": [
        "#loan_data['months_since_earliest_cr_line']"
      ]
    },
    {
      "cell_type": "code",
      "execution_count": null,
      "metadata": {
        "id": "K_rsHXUh0zLh"
      },
      "outputs": [],
      "source": [
        "loan_data['months_since_earliest_cr_line'].describe()"
      ]
    },
    {
      "cell_type": "code",
      "execution_count": null,
      "metadata": {
        "id": "NvBM3dyv0zLh"
      },
      "outputs": [],
      "source": [
        "# In the above given stats we see min as negative ( negative time difference), it needs to be addressed as it;s not possible to have negative days\n",
        "\n",
        "#Start by displaying data points where the negative time differences were calculated, we can select specific rows & columns of a pandas data frame by their labels using the loc method.\n",
        "\n",
        "loan_data.loc[:, ['earliest_cr_line', 'earliest_cr_line_date', 'months_since_earliest_cr_line']][loan_data['months_since_earliest_cr_line']<0]"
      ]
    },
    {
      "cell_type": "code",
      "execution_count": null,
      "metadata": {
        "id": "0CdslB9x0zLh"
      },
      "outputs": [],
      "source": [
        "#In the above output we see that the earliest credit line date is after the reference date (December 2017), which is not possible.\n",
        "#This could have been a miss in conversion where 1967 was interpreted as 2067 - However this conversion coukd be time consuming.\n",
        "#Additionally, it is most likely the issue arose in the first place because the origin of the built-in time scale starts after 1970.\n",
        "#One solution can be to remove data, but that would lead to loss of data, since data is important and we wouldn't want to remove it so easily.\n",
        "#Solution we are going with is to impute the negative values, but with what ?\n",
        "#We know that we get the negative values for the credit line issues at a very distant pointy in the past, in the 60s, that is a longer period than all other credit lines that we normally get values for\n",
        "# - So, we could substitute the negative values with the maximum observed, normal or positive difference. That way, even if we don't claculate the exact number of months\n",
        "# - that have passed since the earliest credit line was issued for those issued in the 60s, we put a very large value and we still get pretty close to the real picture.\n",
        "\n",
        "loan_data['months_since_earliest_cr_line'][loan_data['months_since_earliest_cr_line'] < 0] = loan_data['months_since_earliest_cr_line'].max()"
      ]
    },
    {
      "cell_type": "code",
      "execution_count": null,
      "metadata": {
        "id": "J8H8Jujl0zLh"
      },
      "outputs": [],
      "source": [
        "min(loan_data['months_since_earliest_cr_line'])"
      ]
    },
    {
      "cell_type": "code",
      "execution_count": null,
      "metadata": {
        "id": "MPNcIsv30zLh"
      },
      "outputs": [],
      "source": [
        "loan_data['issue_d'].unique()"
      ]
    },
    {
      "cell_type": "code",
      "execution_count": null,
      "metadata": {
        "id": "0vG95_NR0zLh"
      },
      "outputs": [],
      "source": [
        "loan_data['issue_d_date'] = pd.to_datetime(loan_data['issue_d'], format = '%b-%y')"
      ]
    },
    {
      "cell_type": "code",
      "execution_count": null,
      "metadata": {
        "id": "v9-umruL0zLi"
      },
      "outputs": [],
      "source": [
        "#loan_data['issue_d_date']"
      ]
    },
    {
      "cell_type": "code",
      "execution_count": null,
      "metadata": {
        "id": "B5h_HAku0zLi"
      },
      "outputs": [],
      "source": [
        "loan_data['issue_d_date'].min()"
      ]
    },
    {
      "cell_type": "code",
      "execution_count": null,
      "metadata": {
        "id": "MXngZ6HE0zLi"
      },
      "outputs": [],
      "source": [
        "loan_data['issue_d_date'].max()"
      ]
    },
    {
      "cell_type": "code",
      "execution_count": null,
      "metadata": {
        "id": "pb3vCs1i0zLi"
      },
      "outputs": [],
      "source": [
        "loan_data['months_since_issue_date'] = round(pd.to_numeric(pd.to_datetime('2017-12-01') - loan_data['issue_d_date']))"
      ]
    },
    {
      "cell_type": "code",
      "execution_count": null,
      "metadata": {
        "id": "UZdXyCsS0zLi"
      },
      "outputs": [],
      "source": [
        "#loan_data['months_since_issue_date']"
      ]
    },
    {
      "cell_type": "code",
      "execution_count": null,
      "metadata": {
        "id": "9tCSeyay0zLi"
      },
      "outputs": [],
      "source": [
        "reference_date = pd.to_datetime('2017-12-01')\n",
        "# loan_data['months_since_issue_date'] = round(pd.to_numeric(pd.to_datetime('2017-12-01') - loan_data['issue_d_date']))\n",
        "loan_data['months_since_issue_date'] = round(pd.to_numeric((reference_date - pd.to_datetime(loan_data['issue_d_date']))/ np.timedelta64(1, 'D'))/30.417)"
      ]
    },
    {
      "cell_type": "code",
      "execution_count": null,
      "metadata": {
        "id": "oESUi-Vh0zLi"
      },
      "outputs": [],
      "source": [
        "#loan_data['months_since_issue_date']"
      ]
    },
    {
      "cell_type": "code",
      "execution_count": null,
      "metadata": {
        "id": "urTecC9u0zLi"
      },
      "outputs": [],
      "source": [
        "loan_data['months_since_issue_date'].describe()"
      ]
    },
    {
      "cell_type": "code",
      "execution_count": null,
      "metadata": {
        "id": "44Xl2cV20zLi"
      },
      "outputs": [],
      "source": [
        "#Preprocessing discrete variables\n",
        "#grade, sub_grade, home_ownership, verification_status, loan_status, purpose, addr_state, initial_list_status\n",
        "\n",
        "loan_data.info()"
      ]
    },
    {
      "cell_type": "markdown",
      "metadata": {
        "id": "aQLRS4j50zLi"
      },
      "source": [
        "With discrete features we would want to create  dummy variables for all of their categories. Dummy variables are binary indicators: 1, if an observation belongs to a category; 0, if it does not ( Eg., gender - F/M, for this information to be useful for a statistical model, it has to be numerically represented by dummy variables)\n",
        "\n",
        "We need only k-1 dummy variables to represent the information about k categories.\n",
        "\n",
        "Note: It will be best to create a new dataframe where we will store all the new dummy variables and then concatenate it to the loan_data dataframe."
      ]
    },
    {
      "cell_type": "code",
      "execution_count": null,
      "metadata": {
        "id": "HqHl_cwX0zLi"
      },
      "outputs": [],
      "source": [
        "#pandas has a built-in function to create dummy variables for a given categorical variable - pd.get_dummies()\n",
        "\n",
        "# pd.get_dummies(loan_data['grade'])\n",
        "\n"
      ]
    },
    {
      "cell_type": "code",
      "execution_count": null,
      "metadata": {
        "id": "IGaSHzkc0zLi"
      },
      "outputs": [],
      "source": [
        "loan_data['grade'].unique()"
      ]
    },
    {
      "cell_type": "code",
      "execution_count": null,
      "metadata": {
        "id": "wxigVR_W0zLi"
      },
      "outputs": [],
      "source": [
        "dummies = pd.get_dummies(loan_data['grade'], prefix = 'grade', prefix_sep = ':')"
      ]
    },
    {
      "cell_type": "code",
      "execution_count": null,
      "metadata": {
        "id": "2uBSufBf0zLi"
      },
      "outputs": [],
      "source": [
        "dummies.tail()"
      ]
    },
    {
      "cell_type": "code",
      "execution_count": null,
      "metadata": {
        "id": "q0JbaKJ90zLi"
      },
      "outputs": [],
      "source": [
        "sample = loan_data['grade'].sample(1000, random_state=42)\n",
        "pd.get_dummies(sample)"
      ]
    },
    {
      "cell_type": "code",
      "execution_count": null,
      "metadata": {
        "id": "xnY2OGrH0zLi"
      },
      "outputs": [],
      "source": [
        "loan_data_dummies = [pd.get_dummies(loan_data['grade'], prefix = 'grade', prefix_sep = ':'),\n",
        "                     pd.get_dummies(loan_data['sub_grade'], prefix = 'sub_grade', prefix_sep = ':'),\n",
        "                     pd.get_dummies(loan_data['home_ownership'], prefix = 'home_ownership', prefix_sep = ':'),\n",
        "                     pd.get_dummies(loan_data['verification_status'], prefix = 'verification_staus', prefix_sep = ':'),\n",
        "                     pd.get_dummies(loan_data['loan_status'], prefix ='loan_status', prefix_sep = ':'),\n",
        "                     pd.get_dummies(loan_data['purpose'], prefix = 'purpose', prefix_sep = ':'),\n",
        "                     pd.get_dummies(loan_data['addr_state'], prefix = 'addr_state', prefix_sep = ':'),\n",
        "                     pd.get_dummies(loan_data['initial_list_status'], prefix = 'initial_list_status', prefix_sep = ':')]"
      ]
    },
    {
      "cell_type": "code",
      "execution_count": null,
      "metadata": {
        "id": "m2KSWU9J0zLj"
      },
      "outputs": [],
      "source": [
        "loan_data_dummies = pd.concat(loan_data_dummies, axis =1)"
      ]
    },
    {
      "cell_type": "code",
      "execution_count": null,
      "metadata": {
        "id": "ROt8R_xR0zLj"
      },
      "outputs": [],
      "source": [
        "type(loan_data_dummies)"
      ]
    },
    {
      "cell_type": "markdown",
      "metadata": {
        "id": "i5ZE9Yvd0zLj"
      },
      "source": [
        "We need to specify whether we want to concatenate the inputs by rows or columns. We do that with the axis parameter.\n",
        "By default, axis=0, which means that the inputs are concatenated by rows. If we want to concatenate by columns, we need to set axis=1."
      ]
    },
    {
      "cell_type": "code",
      "execution_count": null,
      "metadata": {
        "id": "KRVCSRSL0zLj"
      },
      "outputs": [],
      "source": [
        "loan_data = pd.concat([loan_data, loan_data_dummies], axis = 1)"
      ]
    },
    {
      "cell_type": "code",
      "execution_count": null,
      "metadata": {
        "id": "OZK0GjY40zLj"
      },
      "outputs": [],
      "source": [
        "loan_data.head()"
      ]
    },
    {
      "cell_type": "code",
      "execution_count": null,
      "metadata": {
        "id": "PE4AA9zI0zLj"
      },
      "outputs": [],
      "source": [
        "loan_data.columns.values"
      ]
    },
    {
      "cell_type": "markdown",
      "metadata": {
        "id": "tF75gvQe0zLj"
      },
      "source": [
        "Check for missing values and clean"
      ]
    },
    {
      "cell_type": "markdown",
      "metadata": {
        "id": "NOq2O3th0zLj"
      },
      "source": [
        "A dedicated pandas method df.isnull, is used to check if each data point is missing (True) or not(False)"
      ]
    },
    {
      "cell_type": "code",
      "execution_count": null,
      "metadata": {
        "id": "a4AD5d-d0zLj"
      },
      "outputs": [],
      "source": [
        "#loan_data.isnull()"
      ]
    },
    {
      "cell_type": "code",
      "execution_count": null,
      "metadata": {
        "id": "O-oTHMFi0zLj"
      },
      "outputs": [],
      "source": [
        "loan_data.head()"
      ]
    },
    {
      "cell_type": "code",
      "execution_count": null,
      "metadata": {
        "id": "xesiEWsF4zkG"
      },
      "outputs": [],
      "source": [
        "# Show all rows that have at least one null value\n",
        "null_rows = loan_data[loan_data.isnull().any(axis=1)]\n",
        "display(null_rows.head(20))"
      ]
    },
    {
      "cell_type": "code",
      "execution_count": null,
      "metadata": {
        "id": "w2xdivnt8L7S"
      },
      "outputs": [],
      "source": [
        "pd.options.display.max_rows = None\n",
        "loan_data.isnull().sum()"
      ]
    },
    {
      "cell_type": "markdown",
      "source": [
        "One way to deal with missing values is to remove all observations(rows) where we have missing value, another way is to impute them."
      ],
      "metadata": {
        "id": "elXvNYeQ6u-V"
      }
    },
    {
      "cell_type": "code",
      "source": [
        "pd.options.display.max_rows = 100"
      ],
      "metadata": {
        "id": "-uHOm8iAbvQ7"
      },
      "execution_count": null,
      "outputs": []
    },
    {
      "cell_type": "code",
      "source": [
        "#Total revolving limit, we use fillna, there is a need to specify two arguments. One of the missing values can be the value we want to replace missing values with, we take the funded amount. If missing values needs to be replaced in the same variable we set inplace = True\n",
        "loan_data['total_rev_hi_lim'].fillna(loan_data['funded_amnt'], inplace = True)"
      ],
      "metadata": {
        "id": "XZ9MGMM-7GrC"
      },
      "execution_count": null,
      "outputs": []
    },
    {
      "cell_type": "code",
      "execution_count": null,
      "metadata": {
        "id": "HUtHKcZs9sg0"
      },
      "outputs": [],
      "source": [
        "pd.options.display.max_rows = None\n",
        "loan_data['total_rev_hi_lim'].isnull().sum()"
      ]
    },
    {
      "cell_type": "code",
      "source": [
        "loan_data['annual_inc'].fillna(loan_data['annual_inc'].mean(), inplace = True)"
      ],
      "metadata": {
        "id": "jQQT8pU4-nqY"
      },
      "execution_count": null,
      "outputs": []
    },
    {
      "cell_type": "code",
      "source": [
        "loan_data['annual_inc'].isnull().sum()"
      ],
      "metadata": {
        "id": "dw8oFdQC-7KW"
      },
      "execution_count": null,
      "outputs": []
    },
    {
      "cell_type": "code",
      "source": [
        "#Replacing the missing values with zeroes\n",
        "loan_data['months_since_earliest_cr_line'].fillna(0, inplace = True)"
      ],
      "metadata": {
        "id": "C_qDGy-e-_zd"
      },
      "execution_count": null,
      "outputs": []
    },
    {
      "cell_type": "code",
      "source": [
        "loan_data['months_since_earliest_cr_line'].isnull().sum()"
      ],
      "metadata": {
        "id": "y9VvaUv8JhgL"
      },
      "execution_count": null,
      "outputs": []
    },
    {
      "cell_type": "code",
      "source": [
        "loan_data['acc_now_delinq'].fillna(0, inplace = True)"
      ],
      "metadata": {
        "id": "DA__q-68Ju8n"
      },
      "execution_count": null,
      "outputs": []
    },
    {
      "cell_type": "code",
      "source": [
        "loan_data['acc_now_delinq'].isnull().sum()"
      ],
      "metadata": {
        "id": "47SNF-00J4MQ"
      },
      "execution_count": null,
      "outputs": []
    },
    {
      "cell_type": "code",
      "source": [
        "loan_data['total_acc'].fillna(0, inplace = True)"
      ],
      "metadata": {
        "id": "XLQJB4NxJ8nC"
      },
      "execution_count": null,
      "outputs": []
    },
    {
      "cell_type": "code",
      "source": [
        "loan_data['total_acc'].isnull().sum()"
      ],
      "metadata": {
        "id": "mBbnSuGwKEig"
      },
      "execution_count": null,
      "outputs": []
    },
    {
      "cell_type": "code",
      "source": [
        "loan_data['pub_rec'].fillna(0, inplace = True)"
      ],
      "metadata": {
        "id": "k2iugfglKHAe"
      },
      "execution_count": null,
      "outputs": []
    },
    {
      "cell_type": "code",
      "source": [
        "loan_data['pub_rec'].isnull().sum()"
      ],
      "metadata": {
        "id": "gGEBKz_DKS_L"
      },
      "execution_count": null,
      "outputs": []
    },
    {
      "cell_type": "code",
      "source": [
        "loan_data['open_acc'].fillna(0, inplace = True)"
      ],
      "metadata": {
        "id": "LRdTbCGjKVZU"
      },
      "execution_count": null,
      "outputs": []
    },
    {
      "cell_type": "code",
      "source": [
        "loan_data['open_acc'].isnull().sum()"
      ],
      "metadata": {
        "id": "AS-cY3OlKoyh"
      },
      "execution_count": null,
      "outputs": []
    },
    {
      "cell_type": "code",
      "source": [
        "loan_data['inq_last_6mths'].fillna(0, inplace = True)"
      ],
      "metadata": {
        "id": "QRfAFXxsKr7M"
      },
      "execution_count": null,
      "outputs": []
    },
    {
      "cell_type": "code",
      "source": [
        "loan_data['inq_last_6mths'].isnull().sum()"
      ],
      "metadata": {
        "id": "9l5qZmqnK3Rr"
      },
      "execution_count": null,
      "outputs": []
    },
    {
      "cell_type": "code",
      "source": [
        "loan_data['delinq_2yrs'].fillna(0, inplace = True)"
      ],
      "metadata": {
        "id": "PcF25AifK827"
      },
      "execution_count": null,
      "outputs": []
    },
    {
      "cell_type": "code",
      "source": [
        "loan_data['delinq_2yrs'].isnull().sum()"
      ],
      "metadata": {
        "id": "LG30SJ20LHBl"
      },
      "execution_count": null,
      "outputs": []
    },
    {
      "cell_type": "code",
      "source": [
        "loan_data['emp_length_int'].fillna(0, inplace = True)"
      ],
      "metadata": {
        "id": "X_ipLYCuLLi_"
      },
      "execution_count": null,
      "outputs": []
    },
    {
      "cell_type": "code",
      "source": [
        "loan_data['emp_length_int'].isnull().sum()"
      ],
      "metadata": {
        "id": "OH8osR1ZLUEo"
      },
      "execution_count": null,
      "outputs": []
    },
    {
      "cell_type": "markdown",
      "source": [
        "Analysis"
      ],
      "metadata": {
        "id": "WGbfFywhIBXT"
      }
    },
    {
      "cell_type": "code",
      "source": [
        "# Expected Loss (EL) = Probability of default (PD) * Loss given default (LGD) * Exposure at default (EAD)"
      ],
      "metadata": {
        "id": "vEoaLUUYLbPy"
      },
      "execution_count": null,
      "outputs": []
    },
    {
      "cell_type": "code",
      "source": [],
      "metadata": {
        "id": "kPO4lkF_LhQb"
      },
      "execution_count": null,
      "outputs": []
    }
  ],
  "metadata": {
    "colab": {
      "provenance": [],
      "machine_shape": "hm",
      "gpuType": "A100",
      "include_colab_link": true
    },
    "kernelspec": {
      "display_name": "Python 3",
      "name": "python3"
    },
    "language_info": {
      "codemirror_mode": {
        "name": "ipython",
        "version": 3
      },
      "file_extension": ".py",
      "mimetype": "text/x-python",
      "name": "python",
      "nbconvert_exporter": "python",
      "pygments_lexer": "ipython3",
      "version": "3.12.7"
    },
    "accelerator": "GPU"
  },
  "nbformat": 4,
  "nbformat_minor": 0
}